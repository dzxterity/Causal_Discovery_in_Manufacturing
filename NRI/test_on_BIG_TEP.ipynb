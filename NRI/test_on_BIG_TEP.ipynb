{
 "cells": [
  {
   "cell_type": "code",
   "execution_count": 1,
   "id": "d8c78ba4",
   "metadata": {},
   "outputs": [],
   "source": [
    "import pandas as pd\n",
    "import torch\n",
    "import torch.nn as nn\n",
    "import torch.nn.functional as F\n",
    "from torch.optim import Adam\n",
    "import numpy as np"
   ]
  },
  {
   "cell_type": "code",
   "execution_count": 2,
   "id": "6e018fb9",
   "metadata": {},
   "outputs": [],
   "source": [
    "from fddbenchmark import FDDDataset, FDDDataloader, FDDEvaluator"
   ]
  },
  {
   "cell_type": "markdown",
   "id": "727c1acc",
   "metadata": {},
   "source": [
    "#### Загрузка датасета:"
   ]
  },
  {
   "cell_type": "code",
   "execution_count": 3,
   "id": "947cd3f2",
   "metadata": {},
   "outputs": [
    {
     "name": "stderr",
     "output_type": "stream",
     "text": [
      "Reading data/reinartz_tep/dataset.csv: 100%|██████████| 5600000/5600000 [00:46<00:00, 121219.36it/s]\n",
      "Reading data/reinartz_tep/labels.csv: 100%|██████████| 5600000/5600000 [00:01<00:00, 3314591.80it/s]\n",
      "Reading data/reinartz_tep/train_mask.csv: 100%|██████████| 5600000/5600000 [00:01<00:00, 3300176.09it/s]\n",
      "Reading data/reinartz_tep/test_mask.csv: 100%|██████████| 5600000/5600000 [00:01<00:00, 3346967.24it/s]\n"
     ]
    }
   ],
   "source": [
    "# 'small_tep'    - 20 faults, 18.9 MB\n",
    "# 'rieth_tep'    - 20 faults, 1.84 GB\n",
    "# 'reinartz_tep' - 28 faults, 1.88 GB\n",
    "\n",
    "data = FDDDataset(name='reinartz_tep')"
   ]
  },
  {
   "cell_type": "markdown",
   "id": "d3780a93",
   "metadata": {},
   "source": [
    "#### Стандартизация данных:"
   ]
  },
  {
   "cell_type": "code",
   "execution_count": 4,
   "id": "5c22c3c8",
   "metadata": {},
   "outputs": [
    {
     "data": {
      "text/html": [
       "<div>\n",
       "<style scoped>\n",
       "    .dataframe tbody tr th:only-of-type {\n",
       "        vertical-align: middle;\n",
       "    }\n",
       "\n",
       "    .dataframe tbody tr th {\n",
       "        vertical-align: top;\n",
       "    }\n",
       "\n",
       "    .dataframe thead th {\n",
       "        text-align: right;\n",
       "    }\n",
       "</style>\n",
       "<table border=\"1\" class=\"dataframe\">\n",
       "  <thead>\n",
       "    <tr style=\"text-align: right;\">\n",
       "      <th></th>\n",
       "      <th></th>\n",
       "      <th>xmeas_1</th>\n",
       "      <th>xmeas_2</th>\n",
       "      <th>xmeas_3</th>\n",
       "      <th>xmeas_4</th>\n",
       "      <th>xmeas_5</th>\n",
       "      <th>xmeas_6</th>\n",
       "      <th>xmeas_7</th>\n",
       "      <th>xmeas_8</th>\n",
       "      <th>xmeas_9</th>\n",
       "      <th>xmeas_10</th>\n",
       "      <th>...</th>\n",
       "      <th>xmv_2</th>\n",
       "      <th>xmv_3</th>\n",
       "      <th>xmv_4</th>\n",
       "      <th>xmv_5</th>\n",
       "      <th>xmv_6</th>\n",
       "      <th>xmv_7</th>\n",
       "      <th>xmv_8</th>\n",
       "      <th>xmv_9</th>\n",
       "      <th>xmv_10</th>\n",
       "      <th>xmv_11</th>\n",
       "    </tr>\n",
       "    <tr>\n",
       "      <th>run_id</th>\n",
       "      <th>sample</th>\n",
       "      <th></th>\n",
       "      <th></th>\n",
       "      <th></th>\n",
       "      <th></th>\n",
       "      <th></th>\n",
       "      <th></th>\n",
       "      <th></th>\n",
       "      <th></th>\n",
       "      <th></th>\n",
       "      <th></th>\n",
       "      <th></th>\n",
       "      <th></th>\n",
       "      <th></th>\n",
       "      <th></th>\n",
       "      <th></th>\n",
       "      <th></th>\n",
       "      <th></th>\n",
       "      <th></th>\n",
       "      <th></th>\n",
       "      <th></th>\n",
       "      <th></th>\n",
       "    </tr>\n",
       "  </thead>\n",
       "  <tbody>\n",
       "    <tr>\n",
       "      <th rowspan=\"2\" valign=\"top\">1334009671</th>\n",
       "      <th>1</th>\n",
       "      <td>-0.175458</td>\n",
       "      <td>0.097509</td>\n",
       "      <td>-0.092930</td>\n",
       "      <td>0.022772</td>\n",
       "      <td>0.079000</td>\n",
       "      <td>0.056226</td>\n",
       "      <td>0.057243</td>\n",
       "      <td>0.078469</td>\n",
       "      <td>-0.042816</td>\n",
       "      <td>-0.081580</td>\n",
       "      <td>...</td>\n",
       "      <td>-0.101671</td>\n",
       "      <td>-0.237457</td>\n",
       "      <td>-0.139339</td>\n",
       "      <td>0.0</td>\n",
       "      <td>-0.082903</td>\n",
       "      <td>0.236431</td>\n",
       "      <td>0.025629</td>\n",
       "      <td>0.0</td>\n",
       "      <td>-0.149639</td>\n",
       "      <td>-1.448923</td>\n",
       "    </tr>\n",
       "    <tr>\n",
       "      <th>2</th>\n",
       "      <td>-0.158513</td>\n",
       "      <td>-0.887449</td>\n",
       "      <td>-0.243139</td>\n",
       "      <td>0.211698</td>\n",
       "      <td>-0.352012</td>\n",
       "      <td>-0.553442</td>\n",
       "      <td>-0.006126</td>\n",
       "      <td>-0.248531</td>\n",
       "      <td>-0.358203</td>\n",
       "      <td>-0.098747</td>\n",
       "      <td>...</td>\n",
       "      <td>-0.037165</td>\n",
       "      <td>-0.234886</td>\n",
       "      <td>-0.141768</td>\n",
       "      <td>0.0</td>\n",
       "      <td>-0.105557</td>\n",
       "      <td>0.236835</td>\n",
       "      <td>0.066062</td>\n",
       "      <td>0.0</td>\n",
       "      <td>-0.203725</td>\n",
       "      <td>-0.178945</td>\n",
       "    </tr>\n",
       "  </tbody>\n",
       "</table>\n",
       "<p>2 rows × 52 columns</p>\n",
       "</div>"
      ],
      "text/plain": [
       "                    xmeas_1   xmeas_2   xmeas_3   xmeas_4   xmeas_5   xmeas_6  \\\n",
       "run_id     sample                                                               \n",
       "1334009671 1      -0.175458  0.097509 -0.092930  0.022772  0.079000  0.056226   \n",
       "           2      -0.158513 -0.887449 -0.243139  0.211698 -0.352012 -0.553442   \n",
       "\n",
       "                    xmeas_7   xmeas_8   xmeas_9  xmeas_10  ...     xmv_2  \\\n",
       "run_id     sample                                          ...             \n",
       "1334009671 1       0.057243  0.078469 -0.042816 -0.081580  ... -0.101671   \n",
       "           2      -0.006126 -0.248531 -0.358203 -0.098747  ... -0.037165   \n",
       "\n",
       "                      xmv_3     xmv_4  xmv_5     xmv_6     xmv_7     xmv_8  \\\n",
       "run_id     sample                                                            \n",
       "1334009671 1      -0.237457 -0.139339    0.0 -0.082903  0.236431  0.025629   \n",
       "           2      -0.234886 -0.141768    0.0 -0.105557  0.236835  0.066062   \n",
       "\n",
       "                   xmv_9    xmv_10    xmv_11  \n",
       "run_id     sample                             \n",
       "1334009671 1         0.0 -0.149639 -1.448923  \n",
       "           2         0.0 -0.203725 -0.178945  \n",
       "\n",
       "[2 rows x 52 columns]"
      ]
     },
     "execution_count": 4,
     "metadata": {},
     "output_type": "execute_result"
    }
   ],
   "source": [
    "data.df = (data.df - data.df.mean()) / data.df.std()\n",
    "data.df['xmv_5'] = 0.0\n",
    "data.df['xmv_9'] = 0.0\n",
    "data.df.head(2)"
   ]
  },
  {
   "cell_type": "markdown",
   "id": "5c17f709",
   "metadata": {},
   "source": [
    "#### Создание загрузчиков данных:"
   ]
  },
  {
   "cell_type": "code",
   "execution_count": 5,
   "id": "825e4996",
   "metadata": {},
   "outputs": [
    {
     "name": "stderr",
     "output_type": "stream",
     "text": [
      "Creating sequence of samples: 100%|██████████| 2240/2240 [01:22<00:00, 27.31it/s]\n",
      "Creating sequence of samples: 100%|██████████| 560/560 [00:21<00:00, 26.56it/s]\n"
     ]
    }
   ],
   "source": [
    "train_dl = FDDDataloader(\n",
    "    dataframe=data.df,\n",
    "    mask=data.train_mask,\n",
    "    labels=data.labels,\n",
    "    window_size=60,\n",
    "    step_size=10,\n",
    "    minibatch_training=True,\n",
    "    batch_size=512,\n",
    "    shuffle=True\n",
    ")\n",
    "\n",
    "test_dl = FDDDataloader(\n",
    "    dataframe=data.df,\n",
    "    mask=data.test_mask,\n",
    "    labels=data.labels,\n",
    "    window_size=60, \n",
    "    step_size=1, \n",
    "    minibatch_training=True,\n",
    "    batch_size=512\n",
    ")\n",
    "\n",
    "evaluator = FDDEvaluator(\n",
    "    step_size=test_dl.step_size\n",
    "    )"
   ]
  },
  {
   "cell_type": "markdown",
   "id": "14a72ce4",
   "metadata": {},
   "source": [
    "#### Модель графовой нейронной сети:"
   ]
  },
  {
   "cell_type": "code",
   "execution_count": 6,
   "id": "93e14034",
   "metadata": {},
   "outputs": [],
   "source": [
    "# Сверточный графовый слой:\n",
    "class GCNLayer(nn.Module):\n",
    "    def __init__(self, in_dim, out_dim):\n",
    "        super().__init__()\n",
    "        \n",
    "        # Данные агрегируются после линейного слоя:\n",
    "        self.dense = nn.Linear(in_dim, out_dim)\n",
    "\n",
    "    def forward(self, adj, X):\n",
    "        # adj - матрица смежности\n",
    "        # Добавление self loops:\n",
    "        #adj = adj + torch.eye(adj.size(0)).to(adj.device)\n",
    "        h = self.dense(X)\n",
    "        norm = adj.sum(1)**(-1/2)\n",
    "        h = norm[None, :] * adj * norm[:, None] @ h\n",
    "        \n",
    "        return h\n",
    "    \n",
    "\n",
    "#Directed adjacency matrix   \n",
    "class Graph_Directed_A(nn.Module):\n",
    "      \n",
    "    def __init__(self, num_nodes=52, window_size=10, alpha=1, device=None):\n",
    "        super(Graph_Directed_A, self).__init__()\n",
    "        \n",
    "        self.alpha = alpha\n",
    "        self.k = None\n",
    "        self.device = device\n",
    "        \n",
    "        self.e1 = nn.Embedding(num_nodes, window_size)\n",
    "        self.e2 = nn.Embedding(num_nodes, window_size)\n",
    "        self.l1 = nn.Linear(window_size,window_size)\n",
    "        self.l2 = nn.Linear(window_size,window_size)\n",
    "        \n",
    "    def forward(self, idx):\n",
    "        \n",
    "        m1 = torch.tanh(self.alpha*self.l1(self.e1(idx)))\n",
    "        m2 = torch.tanh(self.alpha*self.l2(self.e2(idx)))\n",
    "        adj = F.relu(torch.tanh(self.alpha*torch.mm(m1, m2.transpose(1,0))))\n",
    "        \n",
    "        if self.k:\n",
    "            mask = torch.zeros(idx.size(0), idx.size(0)).to(self.device)\n",
    "            mask.fill_(float('0'))\n",
    "            s1,t1 = (adj + torch.rand_like(adj)*0.01).topk(self.k,1)\n",
    "            mask.scatter_(1,t1,s1.fill_(1))\n",
    "            adj = adj*mask\n",
    "            \n",
    "        adj = adj + torch.eye(52).to(self.device)\n",
    "        \n",
    "        return adj\n",
    "\n",
    "    \n",
    "# Графовая нейронная сеть:\n",
    "class GNN(nn.Module):    \n",
    "    def __init__(self, A = None, device=None):\n",
    "        super(GNN, self).__init__()\n",
    "        self.device = device\n",
    "        self.pred = False\n",
    "        if A != None:\n",
    "            self.adj = A.to(device)\n",
    "            self.pred = True\n",
    "        else:\n",
    "            self.graph_struct = Graph_Directed_A(device=device)\n",
    "        self.idx = torch.arange(52).to(device)\n",
    "        \n",
    "        self.conv1 = GCNLayer(60, 256)\n",
    "        self.bnorm1 = nn.BatchNorm1d(52)\n",
    "        self.conv2 = GCNLayer(256, 256)\n",
    "        self.bnorm2 = nn.BatchNorm1d(52)\n",
    "        self.fc = nn.Linear(256, 29)\n",
    "    \n",
    "    \n",
    "    def forward(self, X):\n",
    "        if not self.pred:\n",
    "            self.adj = self.graph_struct(self.idx)\n",
    "        # first gcn layer:\n",
    "        h = self.conv1(self.adj, X.to(self.device)).relu()\n",
    "        h = self.bnorm1(h)\n",
    "        skip, _ = torch.min(h,dim=1)\n",
    "        h = self.conv2(self.adj, h).relu()\n",
    "        h = self.bnorm2(h)\n",
    "        h, _ = torch.min(h,dim=1)\n",
    "        h = h + skip\n",
    "        \n",
    "        output = self.fc(h)\n",
    "        \n",
    "        return output"
   ]
  },
  {
   "cell_type": "markdown",
   "id": "f1cc7960",
   "metadata": {},
   "source": [
    "#### Код для тренировки модели и подсчета метрик:"
   ]
  },
  {
   "cell_type": "code",
   "execution_count": 7,
   "id": "669f8cd7",
   "metadata": {},
   "outputs": [],
   "source": [
    "import time"
   ]
  },
  {
   "cell_type": "code",
   "execution_count": 8,
   "id": "11408822",
   "metadata": {},
   "outputs": [],
   "source": [
    "def train_and_evaluate(adj_matrix = None):\n",
    "    \n",
    "    device = torch.device('cuda' if torch.cuda.is_available() else 'cpu')\n",
    "    model = GNN(A=adj_matrix,device=device)\n",
    "    model.to(device)\n",
    "    optimizer = Adam(model.parameters())\n",
    "    n_epochs = 35\n",
    "    weight = torch.ones(29) * 0.5\n",
    "    weight[1:] /= 28\n",
    "    \n",
    "    model.train()\n",
    "    print(\" Training:\")\n",
    "    for e in range(n_epochs):\n",
    "        av_loss = []\n",
    "        for train_ts, train_index, train_label in train_dl:\n",
    "            m = torch.FloatTensor(train_ts)\n",
    "            v_train_ts = torch.transpose(m, 1, 2)\n",
    "            train_label = torch.LongTensor(train_label.values).to(device)\n",
    "            logits = model(v_train_ts)\n",
    "            loss = F.cross_entropy(logits, train_label, weight=weight.to(device))\n",
    "            optimizer.zero_grad()\n",
    "            loss.backward()\n",
    "            optimizer.step()\n",
    "            av_loss.append(loss.item())\n",
    "        print(f'Epoch: {e+1:2d}/{n_epochs}, average CE loss: {sum(av_loss)/len(av_loss):.4f}')\n",
    "    \n",
    "    print(\"\\n Evaluation:\")\n",
    "    preds = []\n",
    "    test_labels = []\n",
    "    model.eval()\n",
    "    for test_ts, test_index, test_label in test_dl:\n",
    "        m = torch.FloatTensor(test_ts)\n",
    "        v_test_ts = torch.transpose(m, 1, 2)\n",
    "        with torch.no_grad():\n",
    "            logits = model(v_test_ts)\n",
    "        pred = logits.argmax(axis=1).cpu().numpy()\n",
    "        preds.append(pd.Series(pred, index=test_index))\n",
    "        test_labels.append(test_label)\n",
    "    pred = pd.concat(preds)\n",
    "    test_label = pd.concat(test_labels)\n",
    "    \n",
    "    evaluator = FDDEvaluator(\n",
    "    step_size=test_dl.step_size\n",
    "    )\n",
    "    evaluator.print_metrics(test_label, pred)"
   ]
  },
  {
   "cell_type": "markdown",
   "id": "6784100e",
   "metadata": {},
   "source": [
    "#### Результат для матрицы корреляции:"
   ]
  },
  {
   "cell_type": "code",
   "execution_count": 25,
   "id": "283da7fe",
   "metadata": {},
   "outputs": [],
   "source": [
    "A = torch.load('corr_A.pt')"
   ]
  },
  {
   "cell_type": "code",
   "execution_count": 26,
   "id": "dd3111e6",
   "metadata": {},
   "outputs": [
    {
     "name": "stdout",
     "output_type": "stream",
     "text": [
      " Training:\n",
      "Epoch:  1/35, average CE loss: 0.3960\n",
      "Epoch:  2/35, average CE loss: 0.1733\n",
      "Epoch:  3/35, average CE loss: 0.1413\n",
      "Epoch:  4/35, average CE loss: 0.1286\n",
      "Epoch:  5/35, average CE loss: 0.1230\n",
      "Epoch:  6/35, average CE loss: 0.1191\n",
      "Epoch:  7/35, average CE loss: 0.1144\n",
      "Epoch:  8/35, average CE loss: 0.1105\n",
      "Epoch:  9/35, average CE loss: 0.1070\n",
      "Epoch: 10/35, average CE loss: 0.1034\n",
      "Epoch: 11/35, average CE loss: 0.0977\n",
      "Epoch: 12/35, average CE loss: 0.0948\n",
      "Epoch: 13/35, average CE loss: 0.0926\n",
      "Epoch: 14/35, average CE loss: 0.0911\n",
      "Epoch: 15/35, average CE loss: 0.0896\n",
      "Epoch: 16/35, average CE loss: 0.0886\n",
      "Epoch: 17/35, average CE loss: 0.0875\n",
      "Epoch: 18/35, average CE loss: 0.0868\n",
      "Epoch: 19/35, average CE loss: 0.0863\n",
      "Epoch: 20/35, average CE loss: 0.0856\n",
      "Epoch: 21/35, average CE loss: 0.0849\n",
      "Epoch: 22/35, average CE loss: 0.0848\n",
      "Epoch: 23/35, average CE loss: 0.0855\n",
      "Epoch: 24/35, average CE loss: 0.0833\n",
      "Epoch: 25/35, average CE loss: 0.0816\n",
      "Epoch: 26/35, average CE loss: 0.0806\n",
      "Epoch: 27/35, average CE loss: 0.0798\n",
      "Epoch: 28/35, average CE loss: 0.0790\n",
      "Epoch: 29/35, average CE loss: 0.0788\n",
      "Epoch: 30/35, average CE loss: 0.0789\n",
      "Epoch: 31/35, average CE loss: 0.0812\n",
      "Epoch: 32/35, average CE loss: 0.0792\n",
      "Epoch: 33/35, average CE loss: 0.0774\n",
      "Epoch: 34/35, average CE loss: 0.0764\n",
      "Epoch: 35/35, average CE loss: 0.0761\n",
      "\n",
      " Evaluation:\n",
      "FDD metrics\n",
      "-----------------\n",
      "TPR/FPR:\n",
      "    Fault 01: 0.9927/0.0000\n",
      "    Fault 02: 0.9920/0.0000\n",
      "    Fault 03: 0.8145/0.0000\n",
      "    Fault 04: 0.9787/0.0000\n",
      "    Fault 05: 0.9655/0.0004\n",
      "    Fault 06: 0.9777/0.0000\n",
      "    Fault 07: 0.9936/0.0000\n",
      "    Fault 08: 0.9703/0.0000\n",
      "    Fault 09: 0.4083/0.0011\n",
      "    Fault 10: 0.9483/0.0000\n",
      "    Fault 11: 0.9832/0.0000\n",
      "    Fault 12: 0.9700/0.0000\n",
      "    Fault 13: 0.9641/0.0000\n",
      "    Fault 14: 0.9955/0.0000\n",
      "    Fault 15: 0.0219/0.0003\n",
      "    Fault 16: 0.4987/0.0058\n",
      "    Fault 17: 0.9798/0.0000\n",
      "    Fault 18: 0.9643/0.0000\n",
      "    Fault 19: 0.9831/0.0000\n",
      "    Fault 20: 0.9669/0.0000\n",
      "    Fault 21: 0.0000/0.0000\n",
      "    Fault 22: 0.6052/0.0002\n",
      "    Fault 23: 0.5115/0.0016\n",
      "    Fault 24: 0.9850/0.0000\n",
      "    Fault 25: 0.9843/0.0000\n",
      "    Fault 26: 0.9351/0.0000\n",
      "    Fault 27: 0.9900/0.0000\n",
      "    Fault 28: 0.7193/0.0028\n",
      "Detection TPR: 0.8613\n",
      "Detection FPR: 0.0124\n",
      "Average Detection Delay (ADD): 32.09\n",
      "Total Correct Diagnosis Rate (Total CDR): 0.9579\n",
      "\n",
      "Clustering metrics\n",
      "-----------------\n",
      "Adjusted Rand Index (ARI): 0.6893\n",
      "Normalized Mutual Information (NMI): 0.8665\n",
      "Unsupervised Clustering Accuracy (ACC): 0.8702\n",
      "CPU times: user 32min 38s, sys: 27.3 s, total: 33min 6s\n",
      "Wall time: 18min 48s\n"
     ]
    }
   ],
   "source": [
    "%%time\n",
    "train_and_evaluate(A)"
   ]
  },
  {
   "cell_type": "markdown",
   "id": "2a51a972",
   "metadata": {},
   "source": [
    "#### Directed A:"
   ]
  },
  {
   "cell_type": "code",
   "execution_count": 27,
   "id": "bc521057",
   "metadata": {},
   "outputs": [],
   "source": [
    "A = torch.load('./Masters-thesis-Industrial-ML-GNN-main/direct_A.pt', map_location=torch.device('cpu'))"
   ]
  },
  {
   "cell_type": "code",
   "execution_count": 29,
   "id": "aed16497",
   "metadata": {},
   "outputs": [],
   "source": [
    "A = A + torch.eye(52)"
   ]
  },
  {
   "cell_type": "code",
   "execution_count": 30,
   "id": "d9e43293",
   "metadata": {
    "scrolled": false
   },
   "outputs": [
    {
     "name": "stdout",
     "output_type": "stream",
     "text": [
      " Training:\n",
      "Epoch:  1/35, average CE loss: 0.2645\n",
      "Epoch:  2/35, average CE loss: 0.1255\n",
      "Epoch:  3/35, average CE loss: 0.1023\n",
      "Epoch:  4/35, average CE loss: 0.0944\n",
      "Epoch:  5/35, average CE loss: 0.0892\n",
      "Epoch:  6/35, average CE loss: 0.0821\n",
      "Epoch:  7/35, average CE loss: 0.0794\n",
      "Epoch:  8/35, average CE loss: 0.0768\n",
      "Epoch:  9/35, average CE loss: 0.0737\n",
      "Epoch: 10/35, average CE loss: 0.0711\n",
      "Epoch: 11/35, average CE loss: 0.0707\n",
      "Epoch: 12/35, average CE loss: 0.0692\n",
      "Epoch: 13/35, average CE loss: 0.0681\n",
      "Epoch: 14/35, average CE loss: 0.0669\n",
      "Epoch: 15/35, average CE loss: 0.0664\n",
      "Epoch: 16/35, average CE loss: 0.0653\n",
      "Epoch: 17/35, average CE loss: 0.0666\n",
      "Epoch: 18/35, average CE loss: 0.0643\n",
      "Epoch: 19/35, average CE loss: 0.0634\n",
      "Epoch: 20/35, average CE loss: 0.0632\n",
      "Epoch: 21/35, average CE loss: 0.0627\n",
      "Epoch: 22/35, average CE loss: 0.0617\n",
      "Epoch: 23/35, average CE loss: 0.0614\n",
      "Epoch: 24/35, average CE loss: 0.0609\n",
      "Epoch: 25/35, average CE loss: 0.0606\n",
      "Epoch: 26/35, average CE loss: 0.0607\n",
      "Epoch: 27/35, average CE loss: 0.0600\n",
      "Epoch: 28/35, average CE loss: 0.0610\n",
      "Epoch: 29/35, average CE loss: 0.0595\n",
      "Epoch: 30/35, average CE loss: 0.0589\n",
      "Epoch: 31/35, average CE loss: 0.0583\n",
      "Epoch: 32/35, average CE loss: 0.0579\n",
      "Epoch: 33/35, average CE loss: 0.0575\n",
      "Epoch: 34/35, average CE loss: 0.0574\n",
      "Epoch: 35/35, average CE loss: 0.0570\n",
      "\n",
      " Evaluation:\n",
      "FDD metrics\n",
      "-----------------\n",
      "TPR/FPR:\n",
      "    Fault 01: 0.9914/0.0000\n",
      "    Fault 02: 0.9940/0.0000\n",
      "    Fault 03: 0.9604/0.0000\n",
      "    Fault 04: 0.9850/0.0000\n",
      "    Fault 05: 0.9665/0.0003\n",
      "    Fault 06: 0.9875/0.0000\n",
      "    Fault 07: 0.9887/0.0000\n",
      "    Fault 08: 0.9752/0.0000\n",
      "    Fault 09: 0.4286/0.0001\n",
      "    Fault 10: 0.9774/0.0000\n",
      "    Fault 11: 0.9848/0.0000\n",
      "    Fault 12: 0.9850/0.0000\n",
      "    Fault 13: 0.9630/0.0000\n",
      "    Fault 14: 0.9957/0.0000\n",
      "    Fault 15: 0.0975/0.0014\n",
      "    Fault 16: 0.7609/0.0084\n",
      "    Fault 17: 0.9800/0.0000\n",
      "    Fault 18: 0.9638/0.0000\n",
      "    Fault 19: 0.9900/0.0000\n",
      "    Fault 20: 0.9709/0.0000\n",
      "    Fault 21: 0.0000/0.0000\n",
      "    Fault 22: 0.7463/0.0000\n",
      "    Fault 23: 0.9701/0.0012\n",
      "    Fault 24: 0.9895/0.0000\n",
      "    Fault 25: 0.9858/0.0000\n",
      "    Fault 26: 0.9754/0.0000\n",
      "    Fault 27: 0.9920/0.0000\n",
      "    Fault 28: 0.9240/0.0001\n",
      "Detection TPR: 0.9086\n",
      "Detection FPR: 0.0115\n",
      "Average Detection Delay (ADD): 28.07\n",
      "Total Correct Diagnosis Rate (Total CDR): 0.9642\n",
      "\n",
      "Clustering metrics\n",
      "-----------------\n",
      "Adjusted Rand Index (ARI): 0.7846\n",
      "Normalized Mutual Information (NMI): 0.9099\n",
      "Unsupervised Clustering Accuracy (ACC): 0.9073\n"
     ]
    }
   ],
   "source": [
    "train_and_evaluate(A)"
   ]
  },
  {
   "cell_type": "markdown",
   "id": "c323021b",
   "metadata": {},
   "source": [
    "#### A.pt"
   ]
  },
  {
   "cell_type": "code",
   "execution_count": 9,
   "id": "7fb495c8",
   "metadata": {},
   "outputs": [],
   "source": [
    "A = torch.load('A.pt').to('cpu')"
   ]
  },
  {
   "cell_type": "code",
   "execution_count": 75,
   "id": "4971f5ad",
   "metadata": {},
   "outputs": [],
   "source": [
    "A[A>0]=1"
   ]
  },
  {
   "cell_type": "code",
   "execution_count": 11,
   "id": "7ffdc1bb",
   "metadata": {},
   "outputs": [],
   "source": [
    "A = A + torch.eye(52)"
   ]
  },
  {
   "cell_type": "code",
   "execution_count": null,
   "id": "a8e4fe3a",
   "metadata": {
    "scrolled": true
   },
   "outputs": [
    {
     "name": "stdout",
     "output_type": "stream",
     "text": [
      " Training:\n",
      "Epoch:  1/35, average CE loss: 0.3356\n",
      "Epoch:  2/35, average CE loss: 0.1940\n",
      "Epoch:  3/35, average CE loss: 0.1664\n"
     ]
    }
   ],
   "source": [
    "train_and_evaluate(A)"
   ]
  },
  {
   "cell_type": "code",
   "execution_count": 10,
   "id": "6c72bf51",
   "metadata": {},
   "outputs": [
    {
     "data": {
      "text/plain": [
       "tensor([[0.0000, 0.0000, 0.0000,  ..., 0.0000, 0.0000, 0.0000],\n",
       "        [0.0000, 0.0000, 0.0000,  ..., 0.2285, 0.0000, 0.0000],\n",
       "        [0.0000, 0.0000, 0.0000,  ..., 0.0000, 0.0000, 0.0000],\n",
       "        ...,\n",
       "        [0.0000, 0.0000, 0.0000,  ..., 0.0000, 0.0000, 0.0000],\n",
       "        [0.0000, 0.0000, 0.0000,  ..., 0.0000, 0.0000, 0.0000],\n",
       "        [0.0000, 0.0000, 0.0000,  ..., 0.9897, 0.0000, 0.0000]],\n",
       "       grad_fn=<ToCopyBackward0>)"
      ]
     },
     "execution_count": 10,
     "metadata": {},
     "output_type": "execute_result"
    }
   ],
   "source": [
    "A"
   ]
  },
  {
   "cell_type": "code",
   "execution_count": 78,
   "id": "e2f5d5ea",
   "metadata": {},
   "outputs": [],
   "source": [
    "torch.save(A, 'A.pt')"
   ]
  },
  {
   "cell_type": "code",
   "execution_count": null,
   "id": "f3c5b022",
   "metadata": {},
   "outputs": [],
   "source": []
  }
 ],
 "metadata": {
  "kernelspec": {
   "display_name": "Python 3 (ipykernel)",
   "language": "python",
   "name": "python3"
  },
  "language_info": {
   "codemirror_mode": {
    "name": "ipython",
    "version": 3
   },
   "file_extension": ".py",
   "mimetype": "text/x-python",
   "name": "python",
   "nbconvert_exporter": "python",
   "pygments_lexer": "ipython3",
   "version": "3.7.12"
  }
 },
 "nbformat": 4,
 "nbformat_minor": 5
}
