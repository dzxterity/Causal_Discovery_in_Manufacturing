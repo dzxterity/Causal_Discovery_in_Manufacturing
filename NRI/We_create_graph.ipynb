{
 "cells": [
  {
   "cell_type": "code",
   "execution_count": 3,
   "id": "38f08545",
   "metadata": {},
   "outputs": [],
   "source": [
    "from utils import *\n",
    "from modules import *\n",
    "import pandas as pd\n"
   ]
  },
  {
   "cell_type": "code",
   "execution_count": 4,
   "id": "ad8c7645",
   "metadata": {},
   "outputs": [
    {
     "data": {
      "text/plain": [
       "{'args': Namespace(batch_size=50, cuda=True, decoder='mlp', decoder_dropout=0.0, decoder_hidden=128, dims=1, dynamic_graph=False, edge_types=2, encoder='mlp', encoder_dropout=0.0, encoder_hidden=128, epochs=100, factor=True, gamma=0.5, hard=False, load_folder='', lr=0.0005, lr_decay=200, no_cuda=False, no_factor=False, num_atoms=52, prediction_steps=10, prior=False, save_folder='logs', seed=42, skip_first=False, suffix='_springs5', temp=0.5, timesteps=30, var=5e-05)}"
      ]
     },
     "execution_count": 4,
     "metadata": {},
     "output_type": "execute_result"
    }
   ],
   "source": [
    "import pickle\n",
    "\n",
    "with open('logs/exp2023-07-28T06:22:40.937579/metadata.pkl', 'rb') as f:\n",
    "    data = pickle.load(f)\n",
    "data"
   ]
  },
  {
   "cell_type": "code",
   "execution_count": 5,
   "id": "c5bdf1d4",
   "metadata": {},
   "outputs": [
    {
     "name": "stdout",
     "output_type": "stream",
     "text": [
      "Using factor graph MLP encoder.\n"
     ]
    },
    {
     "name": "stderr",
     "output_type": "stream",
     "text": [
      "/home/jovyan/NRI-master/modules.py:27: UserWarning: nn.init.xavier_normal is now deprecated in favor of nn.init.xavier_normal_.\n",
      "  nn.init.xavier_normal(m.weight.data)\n",
      "/home/jovyan/NRI-master/modules.py:110: UserWarning: nn.init.xavier_normal is now deprecated in favor of nn.init.xavier_normal_.\n",
      "  nn.init.xavier_normal(m.weight.data)\n"
     ]
    }
   ],
   "source": [
    "encoder = MLPEncoder(30, 128, 2, 0.0)"
   ]
  },
  {
   "cell_type": "code",
   "execution_count": 6,
   "id": "a6ec0777",
   "metadata": {},
   "outputs": [
    {
     "data": {
      "text/plain": [
       "<All keys matched successfully>"
      ]
     },
     "execution_count": 6,
     "metadata": {},
     "output_type": "execute_result"
    }
   ],
   "source": [
    "import os\n",
    "encoder_file = os.path.join('logs/exp2023-07-28T06:22:40.937579', 'encoder.pt')\n",
    "encoder.load_state_dict(torch.load(encoder_file))"
   ]
  },
  {
   "cell_type": "code",
   "execution_count": 7,
   "id": "39930135",
   "metadata": {},
   "outputs": [],
   "source": [
    "num_atoms = 52\n",
    "off_diag = np.ones([num_atoms, num_atoms]) - np.eye(num_atoms)\n",
    "\n",
    "rel_rec = np.array(encode_onehot(np.where(off_diag)[0]), dtype=np.float32)\n",
    "rel_send = np.array(encode_onehot(np.where(off_diag)[1]), dtype=np.float32)\n",
    "rel_rec = torch.FloatTensor(rel_rec)\n",
    "rel_send = torch.FloatTensor(rel_send)"
   ]
  },
  {
   "cell_type": "code",
   "execution_count": 8,
   "id": "25be6e06",
   "metadata": {},
   "outputs": [],
   "source": [
    "train_loader, valid_loader, test_loader, loc_max, loc_min, vel_max, vel_min = my_load_data(\n",
    "    batch_size=50)"
   ]
  },
  {
   "cell_type": "markdown",
   "id": "efe4c7ca",
   "metadata": {},
   "source": [
    "    Мы получили количество графов такое, какое количество батчей. Теперь мы хотим усреднить это дело перед округлением и получить граф из усредненных вероятностей. Причем не в виде тензора. Почти все придется переписать."
   ]
  },
  {
   "cell_type": "code",
   "execution_count": 10,
   "id": "807d4de0",
   "metadata": {},
   "outputs": [],
   "source": [
    "def np_str_not_diag_to_graph(str_not_diag, dim, accuracy = 0.5):\n",
    "\n",
    "    coef = accuracy\n",
    "    str_not_diag[(str_not_diag > coef) | (str_not_diag < -coef)] = 1\n",
    "    str_not_diag[str_not_diag < 1] = 0\n",
    "    \n",
    "    str_not_diag = np.round(str_not_diag)\n",
    "    k = 0\n",
    "    mas = [[0]*dim for i in range(dim)]\n",
    "    \n",
    "    for i in range(dim):\n",
    "        for j in range(dim):\n",
    "            if i != j:\n",
    "                mas[i][j] = str_not_diag[k]\n",
    "                k += 1\n",
    "            else:\n",
    "                mas[i][j] = 1 #Диагональ\n",
    "    mas = np.array(mas)\n",
    "    return mas"
   ]
  },
  {
   "cell_type": "code",
   "execution_count": 11,
   "id": "8377e98a",
   "metadata": {},
   "outputs": [
    {
     "data": {
      "text/plain": [
       "array([0.4920662 , 0.4866867 , 0.43010366, ..., 0.68355286, 0.66998726,\n",
       "       0.637368  ], dtype=float32)"
      ]
     },
     "execution_count": 11,
     "metadata": {},
     "output_type": "execute_result"
    }
   ],
   "source": [
    "preobr_edgeses = []\n",
    "k = 0\n",
    "for batch_idx, (data, relations) in enumerate(train_loader):\n",
    "\n",
    "    temp = 0.5\n",
    "    hard = False\n",
    "    k += 1\n",
    "\n",
    "    logits = encoder(data, rel_rec, rel_send)\n",
    "    edges = gumbel_softmax(logits, tau=temp, hard=hard)\n",
    "    prob = my_softmax(logits, -1)\n",
    "    \n",
    "    edges = torch.transpose(edges.mean(dim=0), 0, 1)\n",
    "    str_not_diag = edges[1]\n",
    "    str_not_diag = str_not_diag.detach().numpy()\n",
    "    preobr_edgeses.append(str_not_diag)\n",
    "preobr_edgeses = np.array(preobr_edgeses).mean(axis=0)\n",
    "preobr_edgeses"
   ]
  },
  {
   "cell_type": "code",
   "execution_count": 27,
   "id": "021ae19c",
   "metadata": {},
   "outputs": [
    {
     "data": {
      "text/plain": [
       "580.0"
      ]
     },
     "execution_count": 27,
     "metadata": {},
     "output_type": "execute_result"
    }
   ],
   "source": [
    "copy_preobr_edgeses = preobr_edgeses.copy()\n",
    "my_matrix = np_str_not_diag_to_graph(copy_preobr_edgeses, 52, 0.6)\n",
    "my_matrix.sum()"
   ]
  },
  {
   "cell_type": "code",
   "execution_count": 23,
   "id": "5ee0ab03",
   "metadata": {},
   "outputs": [],
   "source": [
    "pd.DataFrame(my_matrix).to_csv('/home/jovyan/NRI_dima.csv', sep = '\\t', index = False, header=False)"
   ]
  }
 ],
 "metadata": {
  "kernelspec": {
   "display_name": "Python 3 (ipykernel)",
   "language": "python",
   "name": "python3"
  },
  "language_info": {
   "codemirror_mode": {
    "name": "ipython",
    "version": 3
   },
   "file_extension": ".py",
   "mimetype": "text/x-python",
   "name": "python",
   "nbconvert_exporter": "python",
   "pygments_lexer": "ipython3",
   "version": "3.7.12"
  }
 },
 "nbformat": 4,
 "nbformat_minor": 5
}
